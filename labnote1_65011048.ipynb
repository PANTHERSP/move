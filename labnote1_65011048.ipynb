{
 "cells": [
  {
   "cell_type": "markdown",
   "id": "6e7c67a0",
   "metadata": {},
   "source": [
    "## Variable and Operator"
   ]
  },
  {
   "cell_type": "markdown",
   "id": "1181e5a9",
   "metadata": {},
   "source": [
    "#### Variable Assignment: การกำหนดค่าให้ตัวแปร"
   ]
  },
  {
   "cell_type": "code",
   "execution_count": 1,
   "id": "ef428844",
   "metadata": {},
   "outputs": [],
   "source": [
    "a = 2\n",
    "b = 10"
   ]
  },
  {
   "cell_type": "markdown",
   "id": "9b362e72",
   "metadata": {},
   "source": [
    "#### Arithmetic Operators: ตัวดำเนินการทางคณิตศาสตร์"
   ]
  },
  {
   "cell_type": "code",
   "execution_count": 2,
   "id": "3009995d",
   "metadata": {},
   "outputs": [
    {
     "name": "stdout",
     "output_type": "stream",
     "text": [
      "125\n",
      "3\n"
     ]
    }
   ],
   "source": [
    "print(5 ** 3)  # Exponential\n",
    "print(10 // 3) # Floor Division"
   ]
  },
  {
   "cell_type": "markdown",
   "id": "bd71a229",
   "metadata": {},
   "source": [
    "#### Comparison Operators: เปรียบเทียบค่า"
   ]
  },
  {
   "cell_type": "code",
   "execution_count": 18,
   "id": "5d1468c5",
   "metadata": {},
   "outputs": [
    {
     "name": "stdout",
     "output_type": "stream",
     "text": [
      "False\n"
     ]
    }
   ],
   "source": [
    "a = 5\n",
    "b = 10\n",
    "print(a == b)  # False"
   ]
  },
  {
   "cell_type": "markdown",
   "id": "4ff0f54e",
   "metadata": {},
   "source": [
    "#### Logical Operators: การดำเนินการทางตรรกะ"
   ]
  },
  {
   "cell_type": "code",
   "execution_count": 4,
   "id": "2fd76f49",
   "metadata": {},
   "outputs": [
    {
     "name": "stdout",
     "output_type": "stream",
     "text": [
      "False\n"
     ]
    }
   ],
   "source": [
    "p = True\n",
    "q = False\n",
    "print(p and q)  # False"
   ]
  },
  {
   "cell_type": "markdown",
   "id": "4752e433",
   "metadata": {},
   "source": [
    "## Expression"
   ]
  },
  {
   "cell_type": "markdown",
   "id": "24558109",
   "metadata": {},
   "source": [
    "#### Basic Expression: การสร้างนิพจน์พื้นฐาน"
   ]
  },
  {
   "cell_type": "code",
   "execution_count": 8,
   "id": "f5adb193",
   "metadata": {},
   "outputs": [],
   "source": [
    "c = 15\n",
    "z = c - 10"
   ]
  },
  {
   "cell_type": "markdown",
   "id": "999a5c12",
   "metadata": {},
   "source": [
    "## Function"
   ]
  },
  {
   "cell_type": "markdown",
   "id": "a6f9254a",
   "metadata": {},
   "source": [
    "#### Function Definition: การประกาศฟังก์ชัน"
   ]
  },
  {
   "cell_type": "code",
   "execution_count": 9,
   "id": "290080b7",
   "metadata": {},
   "outputs": [],
   "source": [
    "def my_function():\n",
    "    return \"Hello, World!\""
   ]
  },
  {
   "cell_type": "markdown",
   "id": "4f9a4dbb",
   "metadata": {},
   "source": [
    "#### Lambda Function: ฟังก์ชันนิรนาม"
   ]
  },
  {
   "cell_type": "code",
   "execution_count": 10,
   "id": "c69b0b46",
   "metadata": {},
   "outputs": [
    {
     "name": "stdout",
     "output_type": "stream",
     "text": [
      "5\n"
     ]
    }
   ],
   "source": [
    "add = lambda x, y: x + y\n",
    "print(add(2, 3))"
   ]
  },
  {
   "cell_type": "markdown",
   "id": "534b6735",
   "metadata": {},
   "source": [
    "#### Map Function: ฟังก์ชัน map"
   ]
  },
  {
   "cell_type": "code",
   "execution_count": 11,
   "id": "45d7edc3",
   "metadata": {},
   "outputs": [
    {
     "name": "stdout",
     "output_type": "stream",
     "text": [
      "[10, 30, 56]\n"
     ]
    }
   ],
   "source": [
    "result = map(lambda x: x[0]*x[1], [(2,5), (5,6), (7,8)])\n",
    "print(list(result))"
   ]
  },
  {
   "cell_type": "markdown",
   "id": "8631a53f",
   "metadata": {},
   "source": [
    "#### File Input/Output: การอ่านและเขียนไฟล์"
   ]
  },
  {
   "cell_type": "markdown",
   "id": "c3a40d3c",
   "metadata": {},
   "source": [
    "with open('myfiles/hellofile.txt', mode='w') as f:\n",
    "    f.write('Hello, World!')"
   ]
  },
  {
   "cell_type": "markdown",
   "id": "8bc0a906",
   "metadata": {},
   "source": [
    "#### Main Function Check: การตรวจสอบว่าโค้ดถูกเรียกใช้โดยตรงหรือไม่"
   ]
  },
  {
   "cell_type": "code",
   "execution_count": 13,
   "id": "5db13241",
   "metadata": {},
   "outputs": [
    {
     "name": "stdout",
     "output_type": "stream",
     "text": [
      "This is executed directly\n"
     ]
    }
   ],
   "source": [
    "if __name__ == '__main__':\n",
    "    print(\"This is executed directly\")"
   ]
  },
  {
   "cell_type": "markdown",
   "id": "2e209226",
   "metadata": {},
   "source": [
    "## Data Types"
   ]
  },
  {
   "cell_type": "markdown",
   "id": "4ef9bd47",
   "metadata": {},
   "source": [
    "#### Polymorphic Operators: ตัวดำเนินการที่สามารถทำงานได้หลากหลายรูปแบบตามชนิดของข้อมูล"
   ]
  },
  {
   "cell_type": "code",
   "execution_count": 15,
   "id": "d31221be",
   "metadata": {},
   "outputs": [],
   "source": [
    "result = \"Hello\" + str(5)  # String concatenation with type casting"
   ]
  },
  {
   "cell_type": "markdown",
   "id": "67c8c9d5",
   "metadata": {},
   "source": [
    "#### Data Type Conversion: การแปลงชนิดของข้อมูล"
   ]
  },
  {
   "cell_type": "code",
   "execution_count": 17,
   "id": "a937517e",
   "metadata": {},
   "outputs": [],
   "source": [
    "result = int('5') + 2"
   ]
  },
  {
   "cell_type": "markdown",
   "id": "97136bcb",
   "metadata": {},
   "source": [
    "## Flowchart and Control Structures"
   ]
  },
  {
   "cell_type": "markdown",
   "id": "c229d43b",
   "metadata": {},
   "source": [
    "#### If-Else Statement: การควบคุมการทำงานด้วยเงื่อนไข"
   ]
  },
  {
   "cell_type": "code",
   "execution_count": 20,
   "id": "85458f48",
   "metadata": {},
   "outputs": [
    {
     "name": "stdout",
     "output_type": "stream",
     "text": [
      "Positive number\n"
     ]
    }
   ],
   "source": [
    "number = 10\n",
    "if number > 0:\n",
    "    print('Positive number')\n",
    "else:\n",
    "    print('Negative number')"
   ]
  },
  {
   "cell_type": "markdown",
   "id": "bb7cffde",
   "metadata": {},
   "source": [
    "#### Nested If: การซ้อนเงื่อนไข"
   ]
  },
  {
   "cell_type": "code",
   "execution_count": 21,
   "id": "8b2c325e",
   "metadata": {},
   "outputs": [
    {
     "name": "stdout",
     "output_type": "stream",
     "text": [
      "Number is positive\n"
     ]
    }
   ],
   "source": [
    "if (number >= 0):\n",
    "    if number == 0:\n",
    "        print('Number is 0')\n",
    "    else:\n",
    "        print('Number is positive')"
   ]
  },
  {
   "cell_type": "markdown",
   "id": "34148a63",
   "metadata": {},
   "source": [
    "## Markdown Formatting in Jupyter"
   ]
  },
  {
   "cell_type": "markdown",
   "id": "ca256eef",
   "metadata": {},
   "source": [
    "#### Basic Markdown: การใช้งาน Markdown ใน Jupyter Notebook"
   ]
  },
  {
   "cell_type": "markdown",
   "id": "27d7609e",
   "metadata": {},
   "source": [
    "# Heading\n",
    "**Bold Text**\n",
    "*Italic Text*"
   ]
  },
  {
   "cell_type": "markdown",
   "id": "be22b156",
   "metadata": {},
   "source": [
    "#### Code Block: การแสดงโค้ดใน Markdown"
   ]
  },
  {
   "cell_type": "code",
   "execution_count": 22,
   "id": "23b6f1ad",
   "metadata": {},
   "outputs": [
    {
     "name": "stdout",
     "output_type": "stream",
     "text": [
      "Hello, World!\n"
     ]
    }
   ],
   "source": [
    "print(\"Hello, World!\")"
   ]
  },
  {
   "cell_type": "code",
   "execution_count": null,
   "id": "39a85a76",
   "metadata": {},
   "outputs": [],
   "source": []
  }
 ],
 "metadata": {
  "kernelspec": {
   "display_name": "Python 3 (ipykernel)",
   "language": "python",
   "name": "python3"
  },
  "language_info": {
   "codemirror_mode": {
    "name": "ipython",
    "version": 3
   },
   "file_extension": ".py",
   "mimetype": "text/x-python",
   "name": "python",
   "nbconvert_exporter": "python",
   "pygments_lexer": "ipython3",
   "version": "3.7.9"
  }
 },
 "nbformat": 4,
 "nbformat_minor": 5
}
