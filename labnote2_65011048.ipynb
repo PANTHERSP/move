{
 "cells": [
  {
   "cell_type": "markdown",
   "id": "ba1edfb7",
   "metadata": {},
   "source": [
    "## List"
   ]
  },
  {
   "cell_type": "code",
   "execution_count": 11,
   "id": "18aadc71",
   "metadata": {},
   "outputs": [],
   "source": [
    "s = \"Green\"\n",
    "colors = ['R','G','B']\n",
    "colors = [5]"
   ]
  },
  {
   "cell_type": "code",
   "execution_count": 4,
   "id": "89a241e8",
   "metadata": {},
   "outputs": [
    {
     "name": "stdout",
     "output_type": "stream",
     "text": [
      "['w', 'e', 'l', 'c', 'o', 'm', 'e']\n"
     ]
    }
   ],
   "source": [
    "list1 = list('welcome')\n",
    "print(list1)"
   ]
  },
  {
   "cell_type": "code",
   "execution_count": 21,
   "id": "b1740c9a",
   "metadata": {},
   "outputs": [
    {
     "name": "stdout",
     "output_type": "stream",
     "text": [
      "['c', 'd', 'e']\n",
      "cde\n",
      "['z', 'y', 'x', 'w', 'v', 'u', 't', 's', 'r', 'q', 'p', 'o', 'n', 'm', 'l', 'k', 'j', 'i', 'h', 'g', 'f', 'e', 'd', 'c', 'b', 'a']\n",
      "<built-in method reverse of list object at 0x000002B63CAA78C8>\n"
     ]
    }
   ],
   "source": [
    "letters = 'abcdefghijklmnopqrstuvwxyz' \n",
    "l = list(letters) \n",
    "l_slice = l[2:5:1]\n",
    "print(l_slice)\n",
    "s_slice = letters[2:5:1]\n",
    "print(s_slice)\n",
    "l_slice2 = l[::-1]\n",
    "print(l_slice2)\n",
    "l_reverse = l.reverse()\n",
    "print(l.reverse)"
   ]
  },
  {
   "cell_type": "code",
   "execution_count": 27,
   "id": "a4331439",
   "metadata": {},
   "outputs": [],
   "source": [
    "planets = ['Mercury', 'Venus', 'Earth', 'Mars', 'Jupiter', 'Saturn', 'Uranus', 'Neptune']"
   ]
  },
  {
   "cell_type": "code",
   "execution_count": 29,
   "id": "4055a7e4",
   "metadata": {},
   "outputs": [
    {
     "name": "stdout",
     "output_type": "stream",
     "text": [
      "Mercury\n",
      "Venus\n",
      "Earth\n",
      "Mars\n",
      "Jupiter\n",
      "Saturn\n",
      "Uranus\n",
      "Neptune\n"
     ]
    }
   ],
   "source": [
    "for planet in planets:\n",
    "    print(planet)"
   ]
  },
  {
   "cell_type": "code",
   "execution_count": 30,
   "id": "96995b79",
   "metadata": {},
   "outputs": [
    {
     "name": "stdout",
     "output_type": "stream",
     "text": [
      "Mercury\n",
      "Venus\n",
      "Earth\n",
      "Mars\n",
      "Jupiter\n",
      "Saturn\n",
      "Uranus\n",
      "Neptune\n"
     ]
    }
   ],
   "source": [
    "for i in range(len(planets)):\n",
    "    print(planets[i])"
   ]
  },
  {
   "cell_type": "code",
   "execution_count": 31,
   "id": "f275dbfc",
   "metadata": {},
   "outputs": [
    {
     "name": "stdout",
     "output_type": "stream",
     "text": [
      "0 Mercury\n",
      "1 Venus\n",
      "2 Earth\n",
      "3 Mars\n",
      "4 Jupiter\n",
      "5 Saturn\n",
      "6 Uranus\n",
      "7 Neptune\n"
     ]
    }
   ],
   "source": [
    "for i, planet in enumerate(planets):\n",
    "    print(i, planet)"
   ]
  },
  {
   "cell_type": "code",
   "execution_count": 32,
   "id": "668ef8ba",
   "metadata": {},
   "outputs": [
    {
     "name": "stdout",
     "output_type": "stream",
     "text": [
      "Mercury\n",
      "Venus\n",
      "Earth\n",
      "Mars\n",
      "Jupiter\n",
      "Saturn\n",
      "Uranus\n",
      "Neptune\n"
     ]
    },
    {
     "data": {
      "text/plain": [
       "[None, None, None, None, None, None, None, None]"
      ]
     },
     "execution_count": 32,
     "metadata": {},
     "output_type": "execute_result"
    }
   ],
   "source": [
    "[print(planet) for planet in planets]"
   ]
  },
  {
   "cell_type": "code",
   "execution_count": 35,
   "id": "94565a98",
   "metadata": {},
   "outputs": [
    {
     "name": "stdout",
     "output_type": "stream",
     "text": [
      "[1, 2, 3]\n"
     ]
    }
   ],
   "source": [
    "l = [1,2,3]\n",
    "m = l\n",
    "print(m)"
   ]
  },
  {
   "cell_type": "code",
   "execution_count": 36,
   "id": "d7903450",
   "metadata": {},
   "outputs": [
    {
     "name": "stdout",
     "output_type": "stream",
     "text": [
      "[1, 2, 3]\n"
     ]
    }
   ],
   "source": [
    "n = l [:]\n",
    "print(n)"
   ]
  },
  {
   "cell_type": "code",
   "execution_count": 38,
   "id": "4bee08e1",
   "metadata": {},
   "outputs": [
    {
     "name": "stdout",
     "output_type": "stream",
     "text": [
      "[1, 2, 3]\n"
     ]
    }
   ],
   "source": [
    "p = list(l)\n",
    "print(l)"
   ]
  },
  {
   "cell_type": "code",
   "execution_count": 39,
   "id": "32b4e117",
   "metadata": {},
   "outputs": [
    {
     "name": "stdout",
     "output_type": "stream",
     "text": [
      "[1, 2, 3]\n"
     ]
    }
   ],
   "source": [
    "q = l.copy()\n",
    "print(q)"
   ]
  },
  {
   "cell_type": "code",
   "execution_count": 40,
   "id": "846a8534",
   "metadata": {},
   "outputs": [
    {
     "name": "stdout",
     "output_type": "stream",
     "text": [
      "[0, 2, 3]\n"
     ]
    }
   ],
   "source": [
    "m[0] = 0\n",
    "print(m)"
   ]
  },
  {
   "cell_type": "code",
   "execution_count": 42,
   "id": "d8e206f9",
   "metadata": {},
   "outputs": [
    {
     "data": {
      "text/plain": [
       "1"
      ]
     },
     "execution_count": 42,
     "metadata": {},
     "output_type": "execute_result"
    }
   ],
   "source": [
    "colors=['red','green','blue','green']\n",
    "colors.index('green')"
   ]
  },
  {
   "cell_type": "code",
   "execution_count": 43,
   "id": "52b069e9",
   "metadata": {},
   "outputs": [
    {
     "data": {
      "text/plain": [
       "3"
      ]
     },
     "execution_count": 43,
     "metadata": {},
     "output_type": "execute_result"
    }
   ],
   "source": [
    "colors.index('green',2)"
   ]
  },
  {
   "cell_type": "code",
   "execution_count": 44,
   "id": "8a3bf3e9",
   "metadata": {
    "scrolled": true
   },
   "outputs": [
    {
     "name": "stdout",
     "output_type": "stream",
     "text": [
      "yes in position 0\n"
     ]
    }
   ],
   "source": [
    "if 'red' in colors:\n",
    "    print(\"yes in position\",colors.index('red'))"
   ]
  },
  {
   "cell_type": "markdown",
   "id": "a429a966",
   "metadata": {},
   "source": [
    "## Tuple"
   ]
  },
  {
   "cell_type": "code",
   "execution_count": 58,
   "id": "4383367f",
   "metadata": {},
   "outputs": [
    {
     "name": "stdout",
     "output_type": "stream",
     "text": [
      "(20, 30)\n",
      "(20, 30)\n",
      "('a', 'b', 'c')\n",
      "(20, 30)\n",
      "()\n",
      "20\n",
      "(20,)\n"
     ]
    }
   ],
   "source": [
    "m = (20,30)\n",
    "print(m)\n",
    "m = tuple([20,30])\n",
    "print(m)\n",
    "m = tuple('abc')\n",
    "print(m)\n",
    "m = tuple ((20,30))\n",
    "print(m)\n",
    "m = tuple()\n",
    "print(m)\n",
    "m = (20)\n",
    "print(m)\n",
    "m = (20, )\n",
    "print(m)"
   ]
  },
  {
   "cell_type": "code",
   "execution_count": 52,
   "id": "d246a4c8",
   "metadata": {},
   "outputs": [
    {
     "data": {
      "text/plain": [
       "39.99"
      ]
     },
     "execution_count": 52,
     "metadata": {},
     "output_type": "execute_result"
    }
   ],
   "source": [
    "book_info = ( 'Python Basics', 39.99, 2021, ('D.Amos', 'D.Bader','J.Jablonski','F.Heisler'))\n",
    "book_info[1]"
   ]
  },
  {
   "cell_type": "code",
   "execution_count": 64,
   "id": "d692281d",
   "metadata": {},
   "outputs": [
    {
     "name": "stdout",
     "output_type": "stream",
     "text": [
      "(1, 2, 3)\n"
     ]
    }
   ],
   "source": [
    "a = (1,2,3)\n",
    "c = a[ : ]\n",
    "print(c)"
   ]
  },
  {
   "cell_type": "code",
   "execution_count": 66,
   "id": "f77abb18",
   "metadata": {},
   "outputs": [
    {
     "ename": "AttributeError",
     "evalue": "'tuple' object has no attribute 'copy'",
     "output_type": "error",
     "traceback": [
      "\u001b[1;31m---------------------------------------------------------------------------\u001b[0m",
      "\u001b[1;31mAttributeError\u001b[0m                            Traceback (most recent call last)",
      "\u001b[1;32m~\\AppData\\Local\\Temp\\ipykernel_4752\\1951489337.py\u001b[0m in \u001b[0;36m<module>\u001b[1;34m\u001b[0m\n\u001b[0;32m      1\u001b[0m \u001b[0md\u001b[0m \u001b[1;33m=\u001b[0m \u001b[0mtuple\u001b[0m\u001b[1;33m(\u001b[0m\u001b[0ma\u001b[0m\u001b[1;33m)\u001b[0m\u001b[1;33m\u001b[0m\u001b[1;33m\u001b[0m\u001b[0m\n\u001b[1;32m----> 2\u001b[1;33m \u001b[0me\u001b[0m \u001b[1;33m=\u001b[0m \u001b[0md\u001b[0m\u001b[1;33m.\u001b[0m\u001b[0mcopy\u001b[0m\u001b[1;33m(\u001b[0m\u001b[1;33m)\u001b[0m\u001b[1;33m\u001b[0m\u001b[1;33m\u001b[0m\u001b[0m\n\u001b[0m",
      "\u001b[1;31mAttributeError\u001b[0m: 'tuple' object has no attribute 'copy'"
     ]
    }
   ],
   "source": [
    "d = tuple(a)\n",
    "e = d.copy()"
   ]
  },
  {
   "cell_type": "markdown",
   "id": "ab231e1f",
   "metadata": {},
   "source": [
    "## Dictionary"
   ]
  },
  {
   "cell_type": "code",
   "execution_count": 67,
   "id": "fffd20b5",
   "metadata": {},
   "outputs": [],
   "source": [
    "dbook_info = { 'title' : 'Python Basics',\n",
    "               'price' : 39.99,\n",
    "               'year' : 2021,\n",
    "               'authors' : ( 'D.Amos', 'D.Bader','J.Jablonski', 'F.Heisler')\n",
    "}"
   ]
  },
  {
   "cell_type": "code",
   "execution_count": 69,
   "id": "f018ebf7",
   "metadata": {},
   "outputs": [],
   "source": [
    "customer = dict ([ \n",
    "('name', 'pikulkaew tangtisanon'),\n",
    "('tel', '0812345678' )\n",
    "])"
   ]
  },
  {
   "cell_type": "code",
   "execution_count": 70,
   "id": "2ad7e162",
   "metadata": {},
   "outputs": [],
   "source": [
    "customer = dict(name = 'pikulkaew tangtisanon' , tel = '0812345678')"
   ]
  },
  {
   "cell_type": "code",
   "execution_count": 72,
   "id": "a6893ff6",
   "metadata": {},
   "outputs": [
    {
     "name": "stdout",
     "output_type": "stream",
     "text": [
      "Python Basics\n"
     ]
    }
   ],
   "source": [
    "print(dbook_info['title'])"
   ]
  },
  {
   "cell_type": "code",
   "execution_count": 73,
   "id": "7a22ddce",
   "metadata": {},
   "outputs": [
    {
     "ename": "KeyError",
     "evalue": "'age'",
     "output_type": "error",
     "traceback": [
      "\u001b[1;31m---------------------------------------------------------------------------\u001b[0m",
      "\u001b[1;31mKeyError\u001b[0m                                  Traceback (most recent call last)",
      "\u001b[1;32m~\\AppData\\Local\\Temp\\ipykernel_4752\\3299120873.py\u001b[0m in \u001b[0;36m<module>\u001b[1;34m\u001b[0m\n\u001b[1;32m----> 1\u001b[1;33m \u001b[0mprint\u001b[0m\u001b[1;33m(\u001b[0m\u001b[0mdbook_info\u001b[0m\u001b[1;33m[\u001b[0m\u001b[1;34m'age'\u001b[0m\u001b[1;33m]\u001b[0m\u001b[1;33m)\u001b[0m\u001b[1;33m\u001b[0m\u001b[1;33m\u001b[0m\u001b[0m\n\u001b[0m",
      "\u001b[1;31mKeyError\u001b[0m: 'age'"
     ]
    }
   ],
   "source": [
    "print(dbook_info['age'])"
   ]
  },
  {
   "cell_type": "code",
   "execution_count": 75,
   "id": "1996f705",
   "metadata": {},
   "outputs": [
    {
     "name": "stdout",
     "output_type": "stream",
     "text": [
      "Python Basics\n",
      "None\n"
     ]
    }
   ],
   "source": [
    "print(dbook_info.get('title'))\n",
    "print(dbook_info.get('age'))"
   ]
  },
  {
   "cell_type": "code",
   "execution_count": 79,
   "id": "ef28ace2",
   "metadata": {},
   "outputs": [
    {
     "data": {
      "text/plain": [
       "{'name': 'Jib', 'tel': '01234'}"
      ]
     },
     "execution_count": 79,
     "metadata": {},
     "output_type": "execute_result"
    }
   ],
   "source": [
    "customer = dict (name = \"Jib\", tel= '01234' )\n",
    "customer"
   ]
  },
  {
   "cell_type": "code",
   "execution_count": 80,
   "id": "fdee88f8",
   "metadata": {},
   "outputs": [
    {
     "data": {
      "text/plain": [
       "{'name': 'Jib', 'tel': '01234', 'hobby': 'tennis'}"
      ]
     },
     "execution_count": 80,
     "metadata": {},
     "output_type": "execute_result"
    }
   ],
   "source": [
    "customer['hobby'] = 'tennis'\n",
    "customer"
   ]
  },
  {
   "cell_type": "code",
   "execution_count": 81,
   "id": "ccfc5dc9",
   "metadata": {},
   "outputs": [
    {
     "data": {
      "text/plain": [
       "{'name': 'Jib', 'tel': '01234', 'hobby': 'tennis', 'address': 'bangkok'}"
      ]
     },
     "execution_count": 81,
     "metadata": {},
     "output_type": "execute_result"
    }
   ],
   "source": [
    "customer.update({ 'address' : 'bangkok' })\n",
    "customer"
   ]
  },
  {
   "cell_type": "code",
   "execution_count": 82,
   "id": "169754d9",
   "metadata": {},
   "outputs": [
    {
     "data": {
      "text/plain": [
       "{'name': 'Jib', 'tel': '01234', 'hobby': 'tennis', 'address': 'Phuket'}"
      ]
     },
     "execution_count": 82,
     "metadata": {},
     "output_type": "execute_result"
    }
   ],
   "source": [
    "customer.update({ 'address' : 'Phuket' })\n",
    "customer"
   ]
  },
  {
   "cell_type": "code",
   "execution_count": 83,
   "id": "b216e513",
   "metadata": {},
   "outputs": [
    {
     "data": {
      "text/plain": [
       "{'name': 'Jib', 'tel': '01234', 'hobby': 'tennis'}"
      ]
     },
     "execution_count": 83,
     "metadata": {},
     "output_type": "execute_result"
    }
   ],
   "source": [
    "del customer['address']\n",
    "customer"
   ]
  },
  {
   "cell_type": "code",
   "execution_count": 90,
   "id": "24fbad91",
   "metadata": {},
   "outputs": [],
   "source": [
    "q = dbook_info.popitem ( )"
   ]
  },
  {
   "cell_type": "code",
   "execution_count": 91,
   "id": "833657fc",
   "metadata": {},
   "outputs": [],
   "source": [
    "dbook_info.clear()"
   ]
  },
  {
   "cell_type": "code",
   "execution_count": 93,
   "id": "add41fbe",
   "metadata": {},
   "outputs": [
    {
     "name": "stdout",
     "output_type": "stream",
     "text": [
      "{'soccer': 11, 'rugby': 15, 'volleyball': 6, 'basketball': 5, 'polo': 4, 'softball': 9}\n"
     ]
    }
   ],
   "source": [
    "sport = dict(soccer=11, rugby=15, volleyball=6, basketball=5, polo=4, softball=9)\n",
    "print(sport)"
   ]
  },
  {
   "cell_type": "code",
   "execution_count": 94,
   "id": "e190e1eb",
   "metadata": {},
   "outputs": [
    {
     "name": "stdout",
     "output_type": "stream",
     "text": [
      "soccer\n",
      "rugby\n",
      "volleyball\n",
      "basketball\n",
      "polo\n",
      "softball\n"
     ]
    }
   ],
   "source": [
    "for i in sport.keys():\n",
    "    print(i)"
   ]
  },
  {
   "cell_type": "code",
   "execution_count": 95,
   "id": "5188a538",
   "metadata": {},
   "outputs": [
    {
     "name": "stdout",
     "output_type": "stream",
     "text": [
      "11\n",
      "15\n",
      "6\n",
      "5\n",
      "4\n",
      "9\n"
     ]
    }
   ],
   "source": [
    "for i in sport.values():\n",
    "    print(i)"
   ]
  },
  {
   "cell_type": "code",
   "execution_count": 96,
   "id": "660d594c",
   "metadata": {},
   "outputs": [
    {
     "name": "stdout",
     "output_type": "stream",
     "text": [
      "11\n",
      "15\n",
      "6\n",
      "5\n",
      "4\n",
      "9\n"
     ]
    }
   ],
   "source": [
    "for i in sport:\n",
    "    print(sport[i])"
   ]
  },
  {
   "cell_type": "code",
   "execution_count": 97,
   "id": "d9bf76b3",
   "metadata": {},
   "outputs": [
    {
     "name": "stdout",
     "output_type": "stream",
     "text": [
      "('soccer', 11)\n",
      "('rugby', 15)\n",
      "('volleyball', 6)\n",
      "('basketball', 5)\n",
      "('polo', 4)\n",
      "('softball', 9)\n"
     ]
    }
   ],
   "source": [
    "for i in sport.items():\n",
    "    print(i)"
   ]
  },
  {
   "cell_type": "code",
   "execution_count": 98,
   "id": "703ff13b",
   "metadata": {},
   "outputs": [
    {
     "name": "stdout",
     "output_type": "stream",
     "text": [
      "soccer 11\n",
      "rugby 15\n",
      "volleyball 6\n",
      "basketball 5\n",
      "polo 4\n",
      "softball 9\n"
     ]
    }
   ],
   "source": [
    "for k, v in sport.items():\n",
    "    print(k, v)"
   ]
  },
  {
   "cell_type": "code",
   "execution_count": 101,
   "id": "d06ecb8d",
   "metadata": {},
   "outputs": [
    {
     "name": "stdout",
     "output_type": "stream",
     "text": [
      "{'soccer': 11, 'rugby': 15, 'volleyball': 6, 'basketball': 5, 'polo': 4, 'softball': 9}\n"
     ]
    }
   ],
   "source": [
    "a = sport.copy()\n",
    "print(a)"
   ]
  },
  {
   "cell_type": "code",
   "execution_count": 102,
   "id": "178ae5d0",
   "metadata": {},
   "outputs": [
    {
     "name": "stdout",
     "output_type": "stream",
     "text": [
      "{'soccer': 11, 'rugby': 15, 'volleyball': 6, 'basketball': 5, 'polo': 4, 'softball': 9}\n"
     ]
    }
   ],
   "source": [
    "b = dict(sport)\n",
    "print(b)"
   ]
  },
  {
   "cell_type": "code",
   "execution_count": 103,
   "id": "117e5d28",
   "metadata": {},
   "outputs": [],
   "source": [
    "kids = {\n",
    "\n",
    "1 : {'name' : ' Poom', 'age' : 10},\n",
    "2 : { 'name' : ' Pao', 'age':9},\n",
    "3 : {'name' : ' Put ', 'age': 7},\n",
    "}"
   ]
  },
  {
   "cell_type": "markdown",
   "id": "ba86e09d",
   "metadata": {},
   "source": [
    "## Sets"
   ]
  },
  {
   "cell_type": "code",
   "execution_count": 104,
   "id": "0511b048",
   "metadata": {},
   "outputs": [
    {
     "name": "stdout",
     "output_type": "stream",
     "text": [
      "{'volleyball', 'softball', 'soccer', 'basketball', 'rugby'}\n"
     ]
    }
   ],
   "source": [
    "sport = {'rugby', 'soccer', 'basketball', 'volleyball', 'softball', 'rugby'}\n",
    "print(sport)"
   ]
  },
  {
   "cell_type": "code",
   "execution_count": 107,
   "id": "99f948fa",
   "metadata": {},
   "outputs": [
    {
     "name": "stdout",
     "output_type": "stream",
     "text": [
      "{}\n",
      "set()\n",
      "{1}\n"
     ]
    }
   ],
   "source": [
    "s = {}\n",
    "print(s)\n",
    "s = set( )\n",
    "print(s)\n",
    "s = set([1])\n",
    "print(s)"
   ]
  },
  {
   "cell_type": "code",
   "execution_count": 108,
   "id": "6550312c",
   "metadata": {},
   "outputs": [
    {
     "ename": "TypeError",
     "evalue": "'int' object is not iterable",
     "output_type": "error",
     "traceback": [
      "\u001b[1;31m---------------------------------------------------------------------------\u001b[0m",
      "\u001b[1;31mTypeError\u001b[0m                                 Traceback (most recent call last)",
      "\u001b[1;32m~\\AppData\\Local\\Temp\\ipykernel_4752\\3459601274.py\u001b[0m in \u001b[0;36m<module>\u001b[1;34m\u001b[0m\n\u001b[1;32m----> 1\u001b[1;33m \u001b[0ms\u001b[0m \u001b[1;33m=\u001b[0m \u001b[0mset\u001b[0m\u001b[1;33m(\u001b[0m\u001b[1;36m1\u001b[0m\u001b[1;33m)\u001b[0m\u001b[1;33m\u001b[0m\u001b[1;33m\u001b[0m\u001b[0m\n\u001b[0m\u001b[0;32m      2\u001b[0m \u001b[0mprint\u001b[0m\u001b[1;33m(\u001b[0m\u001b[0ms\u001b[0m\u001b[1;33m)\u001b[0m\u001b[1;33m\u001b[0m\u001b[1;33m\u001b[0m\u001b[0m\n",
      "\u001b[1;31mTypeError\u001b[0m: 'int' object is not iterable"
     ]
    }
   ],
   "source": [
    "s = set(1)\n",
    "print(s)"
   ]
  },
  {
   "cell_type": "code",
   "execution_count": 109,
   "id": "f2f63014",
   "metadata": {},
   "outputs": [],
   "source": [
    "dad_sport = {'soccer', 'baseball', 'basketball', 'tennis'}\n",
    "mom_sport = {'basketball', 'volleyball' , 'tennis', 'rowing'}\n",
    "kid_sport ={'tennis' , 'swimming ', ' soccer'}"
   ]
  },
  {
   "cell_type": "code",
   "execution_count": 112,
   "id": "bec2a121",
   "metadata": {},
   "outputs": [
    {
     "data": {
      "text/plain": [
       "{' soccer',\n",
       " 'baseball',\n",
       " 'basketball',\n",
       " 'rowing',\n",
       " 'soccer',\n",
       " 'swimming ',\n",
       " 'tennis',\n",
       " 'volleyball'}"
      ]
     },
     "execution_count": 112,
     "metadata": {},
     "output_type": "execute_result"
    }
   ],
   "source": [
    "dad_sport | mom_sport|kid_sport"
   ]
  },
  {
   "cell_type": "code",
   "execution_count": 111,
   "id": "d5187e4c",
   "metadata": {},
   "outputs": [
    {
     "data": {
      "text/plain": [
       "{'tennis'}"
      ]
     },
     "execution_count": 111,
     "metadata": {},
     "output_type": "execute_result"
    }
   ],
   "source": [
    "dad_sport & mom_sport & kid_sport"
   ]
  },
  {
   "cell_type": "code",
   "execution_count": 113,
   "id": "a727d6c6",
   "metadata": {},
   "outputs": [
    {
     "data": {
      "text/plain": [
       "{'baseball', 'soccer'}"
      ]
     },
     "execution_count": 113,
     "metadata": {},
     "output_type": "execute_result"
    }
   ],
   "source": [
    "dad_sport - mom_sport"
   ]
  },
  {
   "cell_type": "code",
   "execution_count": 114,
   "id": "3ed90698",
   "metadata": {},
   "outputs": [
    {
     "data": {
      "text/plain": [
       "{' soccer', 'swimming '}"
      ]
     },
     "execution_count": 114,
     "metadata": {},
     "output_type": "execute_result"
    }
   ],
   "source": [
    "kid_sport.difference(mom_sport,dad_sport)"
   ]
  },
  {
   "cell_type": "code",
   "execution_count": 115,
   "id": "010d849e",
   "metadata": {},
   "outputs": [
    {
     "data": {
      "text/plain": [
       "{'baseball', 'rowing', 'soccer', 'volleyball'}"
      ]
     },
     "execution_count": 115,
     "metadata": {},
     "output_type": "execute_result"
    }
   ],
   "source": [
    "dad_sport ^ mom_sport"
   ]
  },
  {
   "cell_type": "code",
   "execution_count": 116,
   "id": "983a2f64",
   "metadata": {},
   "outputs": [
    {
     "data": {
      "text/plain": [
       "{'baseball', 'rowing', 'soccer', 'volleyball'}"
      ]
     },
     "execution_count": 116,
     "metadata": {},
     "output_type": "execute_result"
    }
   ],
   "source": [
    "dad_sport.symmetric_difference(mom_sport)"
   ]
  },
  {
   "cell_type": "code",
   "execution_count": 119,
   "id": "dafb0ec0",
   "metadata": {},
   "outputs": [
    {
     "name": "stdout",
     "output_type": "stream",
     "text": [
      "{1, 2, 3, 4}\n"
     ]
    }
   ],
   "source": [
    "a = {1,2,3}\n",
    "b = {3,4,5}\n",
    "a.add(4)\n",
    "print(a)"
   ]
  },
  {
   "cell_type": "code",
   "execution_count": 120,
   "id": "874e6c17",
   "metadata": {},
   "outputs": [
    {
     "name": "stdout",
     "output_type": "stream",
     "text": [
      "{1, 2, 3, 4, 5}\n",
      "{1, 2, 3, 4, 5, 6, 7, 'x', 'y', 'z'}\n"
     ]
    }
   ],
   "source": [
    "a.update(b)\n",
    "print(a)\n",
    "a.update([5,6,7], 'xyz')\n",
    "print(a)"
   ]
  },
  {
   "cell_type": "code",
   "execution_count": 121,
   "id": "6c9fda92",
   "metadata": {},
   "outputs": [
    {
     "name": "stdout",
     "output_type": "stream",
     "text": [
      "{1, 2, 3, 4, 6, 7, 'x', 'y', 'z'}\n"
     ]
    }
   ],
   "source": [
    "a.remove(5)\n",
    "print(a)"
   ]
  },
  {
   "cell_type": "code",
   "execution_count": 123,
   "id": "40fd5bf5",
   "metadata": {},
   "outputs": [
    {
     "name": "stdout",
     "output_type": "stream",
     "text": [
      "{1, 2, 3, 4, 6, 7, 'x', 'y', 'z'}\n"
     ]
    }
   ],
   "source": [
    "a.discard(5)\n",
    "print(a)"
   ]
  },
  {
   "cell_type": "code",
   "execution_count": 124,
   "id": "18c0da18",
   "metadata": {},
   "outputs": [
    {
     "name": "stdout",
     "output_type": "stream",
     "text": [
      "{2, 3, 4, 6, 7, 'x', 'y', 'z'}\n"
     ]
    }
   ],
   "source": [
    "a.pop()\n",
    "print(a)"
   ]
  },
  {
   "cell_type": "code",
   "execution_count": 125,
   "id": "b44d2b35",
   "metadata": {},
   "outputs": [
    {
     "name": "stdout",
     "output_type": "stream",
     "text": [
      "set()\n"
     ]
    }
   ],
   "source": [
    "b.clear()\n",
    "print(b)"
   ]
  },
  {
   "cell_type": "code",
   "execution_count": 127,
   "id": "7ccbff26",
   "metadata": {},
   "outputs": [],
   "source": [
    "a = {1,2,3} \n",
    "b = {3,4,5} \n",
    "c = {1,2,3} \n",
    "d = {1,2}"
   ]
  },
  {
   "cell_type": "code",
   "execution_count": 128,
   "id": "d2594419",
   "metadata": {},
   "outputs": [
    {
     "data": {
      "text/plain": [
       "True"
      ]
     },
     "execution_count": 128,
     "metadata": {},
     "output_type": "execute_result"
    }
   ],
   "source": [
    "3 in a"
   ]
  },
  {
   "cell_type": "code",
   "execution_count": 129,
   "id": "66b71fb7",
   "metadata": {},
   "outputs": [
    {
     "data": {
      "text/plain": [
       "False"
      ]
     },
     "execution_count": 129,
     "metadata": {},
     "output_type": "execute_result"
    }
   ],
   "source": [
    "a.isdisjoint(b)"
   ]
  },
  {
   "cell_type": "code",
   "execution_count": 130,
   "id": "8c87ffbe",
   "metadata": {},
   "outputs": [
    {
     "data": {
      "text/plain": [
       "True"
      ]
     },
     "execution_count": 130,
     "metadata": {},
     "output_type": "execute_result"
    }
   ],
   "source": [
    "d <= d"
   ]
  },
  {
   "cell_type": "code",
   "execution_count": 131,
   "id": "a1490918",
   "metadata": {},
   "outputs": [
    {
     "data": {
      "text/plain": [
       "False"
      ]
     },
     "execution_count": 131,
     "metadata": {},
     "output_type": "execute_result"
    }
   ],
   "source": [
    "d < d"
   ]
  },
  {
   "cell_type": "code",
   "execution_count": 133,
   "id": "448a8952",
   "metadata": {},
   "outputs": [
    {
     "data": {
      "text/plain": [
       "True"
      ]
     },
     "execution_count": 133,
     "metadata": {},
     "output_type": "execute_result"
    }
   ],
   "source": [
    "d <= c"
   ]
  },
  {
   "cell_type": "code",
   "execution_count": 4,
   "id": "578de5f5",
   "metadata": {},
   "outputs": [
    {
     "ename": "NameError",
     "evalue": "name 'c' is not defined",
     "output_type": "error",
     "traceback": [
      "\u001b[1;31m---------------------------------------------------------------------------\u001b[0m",
      "\u001b[1;31mNameError\u001b[0m                                 Traceback (most recent call last)",
      "\u001b[1;32m~\\AppData\\Local\\Temp\\ipykernel_20032\\1449458879.py\u001b[0m in \u001b[0;36m<module>\u001b[1;34m\u001b[0m\n\u001b[1;32m----> 1\u001b[1;33m \u001b[0mc\u001b[0m \u001b[1;33m>=\u001b[0m \u001b[0md\u001b[0m\u001b[1;33m\u001b[0m\u001b[1;33m\u001b[0m\u001b[0m\n\u001b[0m",
      "\u001b[1;31mNameError\u001b[0m: name 'c' is not defined"
     ]
    }
   ],
   "source": [
    "c >= d"
   ]
  },
  {
   "cell_type": "code",
   "execution_count": 5,
   "id": "308adcc6",
   "metadata": {},
   "outputs": [
    {
     "ename": "NameError",
     "evalue": "name 'c' is not defined",
     "output_type": "error",
     "traceback": [
      "\u001b[1;31m---------------------------------------------------------------------------\u001b[0m",
      "\u001b[1;31mNameError\u001b[0m                                 Traceback (most recent call last)",
      "\u001b[1;32m~\\AppData\\Local\\Temp\\ipykernel_20032\\2827188635.py\u001b[0m in \u001b[0;36m<module>\u001b[1;34m\u001b[0m\n\u001b[1;32m----> 1\u001b[1;33m \u001b[0mc\u001b[0m \u001b[1;33m>\u001b[0m \u001b[0mc\u001b[0m\u001b[1;33m\u001b[0m\u001b[1;33m\u001b[0m\u001b[0m\n\u001b[0m",
      "\u001b[1;31mNameError\u001b[0m: name 'c' is not defined"
     ]
    }
   ],
   "source": [
    "c > c"
   ]
  },
  {
   "cell_type": "code",
   "execution_count": 136,
   "id": "647f5bfa",
   "metadata": {},
   "outputs": [],
   "source": [
    "dad_sport = {'soccer', 'baseball', 'basketball', 'tennis'}\n",
    "mom_sport = {'basketball', 'volleyball' , 'tennis', 'rowing'}\n",
    "kid_sport ={'tennis' , 'swimming ', ' soccer'}"
   ]
  },
  {
   "cell_type": "code",
   "execution_count": 137,
   "id": "680197ba",
   "metadata": {},
   "outputs": [
    {
     "name": "stdout",
     "output_type": "stream",
     "text": [
      "baseball\n",
      "soccer\n",
      "basketball\n",
      "tennis\n"
     ]
    }
   ],
   "source": [
    "for i in dad_sport:\n",
    "    print(i)"
   ]
  },
  {
   "cell_type": "code",
   "execution_count": 138,
   "id": "651aac6f",
   "metadata": {},
   "outputs": [
    {
     "name": "stdout",
     "output_type": "stream",
     "text": [
      "(0, 'baseball')\n",
      "(1, 'soccer')\n",
      "(2, 'basketball')\n",
      "(3, 'tennis')\n"
     ]
    }
   ],
   "source": [
    "for i in enumerate(dad_sport):\n",
    "    print(i)"
   ]
  },
  {
   "cell_type": "markdown",
   "id": "eeab1c4a",
   "metadata": {},
   "source": [
    "## Function"
   ]
  },
  {
   "cell_type": "code",
   "execution_count": 139,
   "id": "0def41f7",
   "metadata": {},
   "outputs": [],
   "source": [
    "def print_hello():\n",
    "    print(\"Hello, world!\")"
   ]
  },
  {
   "cell_type": "code",
   "execution_count": 140,
   "id": "ba80fcf3",
   "metadata": {},
   "outputs": [],
   "source": [
    "def generate_random_number():\n",
    "    import random\n",
    "    return random.randint(1, 100)"
   ]
  },
  {
   "cell_type": "code",
   "execution_count": 142,
   "id": "07bafd15",
   "metadata": {},
   "outputs": [],
   "source": [
    "def print_even_numbers():\n",
    "    for i in range(1, 11):\n",
    "        if i % 2 == 0:\n",
    "            print(i)"
   ]
  },
  {
   "cell_type": "code",
   "execution_count": 143,
   "id": "d812228a",
   "metadata": {},
   "outputs": [
    {
     "name": "stdout",
     "output_type": "stream",
     "text": [
      "Hello, world!\n",
      "Random Number: 43\n",
      "Even Numbers:\n",
      "2\n",
      "4\n",
      "6\n",
      "8\n",
      "10\n"
     ]
    }
   ],
   "source": [
    "print_hello()\n",
    "print(\"Random Number:\", generate_random_number())\n",
    "print(\"Even Numbers:\")\n",
    "print_even_numbers()"
   ]
  },
  {
   "cell_type": "code",
   "execution_count": 144,
   "id": "c3c46975",
   "metadata": {},
   "outputs": [
    {
     "name": "stdout",
     "output_type": "stream",
     "text": [
      "10\n"
     ]
    }
   ],
   "source": [
    "def add_numbers(*args):\n",
    "    result = 0 # กําหนดคาเริ่มตนของผลลัพธเปน 0\n",
    "    for n in args:\n",
    "        result = result + n\n",
    "    return result\n",
    "print (add_numbers(2, 3,5 ))"
   ]
  },
  {
   "cell_type": "code",
   "execution_count": 145,
   "id": "689a5086",
   "metadata": {},
   "outputs": [
    {
     "name": "stdout",
     "output_type": "stream",
     "text": [
      "10\n",
      "99.99\n",
      "20\n"
     ]
    },
    {
     "ename": "NameError",
     "evalue": "name 'y' is not defined",
     "output_type": "error",
     "traceback": [
      "\u001b[1;31m---------------------------------------------------------------------------\u001b[0m",
      "\u001b[1;31mNameError\u001b[0m                                 Traceback (most recent call last)",
      "\u001b[1;32m~\\AppData\\Local\\Temp\\ipykernel_4752\\985097354.py\u001b[0m in \u001b[0;36m<module>\u001b[1;34m\u001b[0m\n\u001b[0;32m      7\u001b[0m \u001b[0mz\u001b[0m \u001b[1;33m=\u001b[0m \u001b[1;36m20\u001b[0m\u001b[1;33m\u001b[0m\u001b[1;33m\u001b[0m\u001b[0m\n\u001b[0;32m      8\u001b[0m \u001b[0mvar_scope\u001b[0m\u001b[1;33m(\u001b[0m\u001b[1;33m)\u001b[0m\u001b[1;33m\u001b[0m\u001b[1;33m\u001b[0m\u001b[0m\n\u001b[1;32m----> 9\u001b[1;33m \u001b[0mprint\u001b[0m\u001b[1;33m(\u001b[0m\u001b[0my\u001b[0m\u001b[1;33m)\u001b[0m\u001b[1;33m\u001b[0m\u001b[1;33m\u001b[0m\u001b[0m\n\u001b[0m",
      "\u001b[1;31mNameError\u001b[0m: name 'y' is not defined"
     ]
    }
   ],
   "source": [
    "x = 10\n",
    "def var_scope():\n",
    "    y = 99.99\n",
    "    print(x)\n",
    "    print(y)\n",
    "    print(z)\n",
    "z = 20\n",
    "var_scope()\n",
    "print(y)"
   ]
  },
  {
   "cell_type": "markdown",
   "id": "d178bd9e",
   "metadata": {},
   "source": [
    "## Files"
   ]
  },
  {
   "cell_type": "code",
   "execution_count": 7,
   "id": "6b8f04b3",
   "metadata": {},
   "outputs": [
    {
     "name": "stdout",
     "output_type": "stream",
     "text": [
      "hello my name is non \n",
      "i love u jubjub\n"
     ]
    }
   ],
   "source": [
    "f = open('myfiles/hellofile.txt')\n",
    "data = f.read()\n",
    "print(data)"
   ]
  },
  {
   "cell_type": "code",
   "execution_count": 17,
   "id": "4f864f53",
   "metadata": {},
   "outputs": [],
   "source": [
    "with open('myfiles/hellofile.txt', mode ='a') as f:\n",
    "    f.write('i have one')"
   ]
  },
  {
   "cell_type": "code",
   "execution_count": 3,
   "id": "5a0f7198",
   "metadata": {},
   "outputs": [
    {
     "ename": "FileNotFoundError",
     "evalue": "[Errno 2] No such file or directory: 'myfiles/test.txt'",
     "output_type": "error",
     "traceback": [
      "\u001b[1;31m---------------------------------------------------------------------------\u001b[0m",
      "\u001b[1;31mFileNotFoundError\u001b[0m                         Traceback (most recent call last)",
      "\u001b[1;32m~\\AppData\\Local\\Temp\\ipykernel_20032\\1053983479.py\u001b[0m in \u001b[0;36m<module>\u001b[1;34m\u001b[0m\n\u001b[1;32m----> 1\u001b[1;33m \u001b[0mf\u001b[0m \u001b[1;33m=\u001b[0m \u001b[0mopen\u001b[0m\u001b[1;33m(\u001b[0m\u001b[1;34m'myfiles/test.txt'\u001b[0m\u001b[1;33m)\u001b[0m\u001b[1;33m\u001b[0m\u001b[1;33m\u001b[0m\u001b[0m\n\u001b[0m\u001b[0;32m      2\u001b[0m \u001b[0mdata\u001b[0m \u001b[1;33m=\u001b[0m \u001b[0mf\u001b[0m\u001b[1;33m.\u001b[0m\u001b[0mread\u001b[0m\u001b[1;33m(\u001b[0m\u001b[1;33m)\u001b[0m\u001b[1;33m\u001b[0m\u001b[1;33m\u001b[0m\u001b[0m\n\u001b[0;32m      3\u001b[0m \u001b[0mprint\u001b[0m\u001b[1;33m(\u001b[0m\u001b[0mdata\u001b[0m\u001b[1;33m)\u001b[0m\u001b[1;33m\u001b[0m\u001b[1;33m\u001b[0m\u001b[0m\n",
      "\u001b[1;31mFileNotFoundError\u001b[0m: [Errno 2] No such file or directory: 'myfiles/test.txt'"
     ]
    }
   ],
   "source": [
    "f = open('myfiles/test.txt')\n",
    "data = f.read()\n",
    "print(data)"
   ]
  },
  {
   "cell_type": "markdown",
   "id": "c9296cf1",
   "metadata": {},
   "source": [
    "## Lambda"
   ]
  },
  {
   "cell_type": "code",
   "execution_count": 19,
   "id": "d46cdcd1",
   "metadata": {},
   "outputs": [
    {
     "name": "stdout",
     "output_type": "stream",
     "text": [
      "5\n"
     ]
    }
   ],
   "source": [
    "print( (lambda x,y : x+y)(2,3) )"
   ]
  },
  {
   "cell_type": "code",
   "execution_count": 20,
   "id": "e6ef172c",
   "metadata": {},
   "outputs": [
    {
     "name": "stdout",
     "output_type": "stream",
     "text": [
      "3\n"
     ]
    }
   ],
   "source": [
    "print( (lambda x,y : x if x > y else y)(2,3) )"
   ]
  },
  {
   "cell_type": "code",
   "execution_count": 21,
   "id": "d9f78e15",
   "metadata": {},
   "outputs": [],
   "source": [
    "lambda_fn = (lambda x,y : x+y)"
   ]
  },
  {
   "cell_type": "markdown",
   "id": "7aa88347",
   "metadata": {},
   "source": [
    "## MAP"
   ]
  },
  {
   "cell_type": "code",
   "execution_count": 22,
   "id": "ba85fa04",
   "metadata": {},
   "outputs": [
    {
     "name": "stdout",
     "output_type": "stream",
     "text": [
      "[10, 30, 56]\n"
     ]
    }
   ],
   "source": [
    "area = [(2,5), (5,6), (7,8)]\n",
    "result = map(lambda x : x[0]*x[1], area)\n",
    "print(list(result))"
   ]
  },
  {
   "cell_type": "code",
   "execution_count": 23,
   "id": "70d72e58",
   "metadata": {},
   "outputs": [
    {
     "name": "stdout",
     "output_type": "stream",
     "text": [
      "[10, 30, 56]\n"
     ]
    }
   ],
   "source": [
    "print( list(map(lambda x : x[0]*x[1], area)))"
   ]
  },
  {
   "cell_type": "code",
   "execution_count": 24,
   "id": "71234119",
   "metadata": {},
   "outputs": [
    {
     "name": "stdout",
     "output_type": "stream",
     "text": [
      "[10, 30, 56]\n"
     ]
    }
   ],
   "source": [
    "print([x[0]*x[1] for x in area])"
   ]
  },
  {
   "cell_type": "code",
   "execution_count": 26,
   "id": "2a3b3c11",
   "metadata": {},
   "outputs": [
    {
     "name": "stdout",
     "output_type": "stream",
     "text": [
      "<class 'list'>\n",
      "[400, 800, 1200]\n",
      "[400, 800, 1200]\n"
     ]
    }
   ],
   "source": [
    "tojpy = [100,200,300]\n",
    "def jpy_thb(m):\n",
    "    return m * 4\n",
    "\n",
    "print(type(tojpy))\n",
    "print(list(map(lambda m: m *4, tojpy)))\n",
    "print(list(map(jpy_thb, tojpy)))"
   ]
  },
  {
   "cell_type": "markdown",
   "id": "f72ede8c",
   "metadata": {},
   "source": [
    "## Reduce"
   ]
  },
  {
   "cell_type": "code",
   "execution_count": 27,
   "id": "0176606f",
   "metadata": {},
   "outputs": [
    {
     "name": "stdout",
     "output_type": "stream",
     "text": [
      "15\n"
     ]
    }
   ],
   "source": [
    "from functools import reduce\n",
    "print(reduce( lambda x, y: x + y, [1, 2, 3, 4, 5] ))"
   ]
  },
  {
   "cell_type": "code",
   "execution_count": 28,
   "id": "1fb0314a",
   "metadata": {},
   "outputs": [
    {
     "name": "stdout",
     "output_type": "stream",
     "text": [
      "15\n"
     ]
    }
   ],
   "source": [
    "print(sum([1, 2, 3, 4, 5]))"
   ]
  },
  {
   "cell_type": "markdown",
   "id": "5702eeba",
   "metadata": {},
   "source": [
    "## Filter "
   ]
  },
  {
   "cell_type": "code",
   "execution_count": 29,
   "id": "2de52611",
   "metadata": {},
   "outputs": [
    {
     "name": "stdout",
     "output_type": "stream",
     "text": [
      "[2, 4, 6, 8, 10]\n"
     ]
    }
   ],
   "source": [
    "numbers = [1, 2, 3, 4, 5, 6, 7, 8, 9, 10]\n",
    "def is_even(num):\n",
    "    return num % 2 == 0\n",
    "even_numbers = list(filter(is_even, numbers))\n",
    "print(even_numbers)"
   ]
  },
  {
   "cell_type": "code",
   "execution_count": 30,
   "id": "98651069",
   "metadata": {},
   "outputs": [
    {
     "name": "stdout",
     "output_type": "stream",
     "text": [
      "['Nick', 'Mike']\n"
     ]
    }
   ],
   "source": [
    "names = ['Dave', 'Nick', 'Tom', 'Mike']\n",
    "print(list(filter(lambda s: s[0] in ['M', 'N'], names)))"
   ]
  },
  {
   "cell_type": "code",
   "execution_count": 31,
   "id": "7b99034c",
   "metadata": {},
   "outputs": [
    {
     "name": "stdout",
     "output_type": "stream",
     "text": [
      "['Nick', 'Mike']\n"
     ]
    }
   ],
   "source": [
    "print ([x for x in names if x[0] in ['M','N']])"
   ]
  }
 ],
 "metadata": {
  "kernelspec": {
   "display_name": "Python 3 (ipykernel)",
   "language": "python",
   "name": "python3"
  },
  "language_info": {
   "codemirror_mode": {
    "name": "ipython",
    "version": 3
   },
   "file_extension": ".py",
   "mimetype": "text/x-python",
   "name": "python",
   "nbconvert_exporter": "python",
   "pygments_lexer": "ipython3",
   "version": "3.7.9"
  }
 },
 "nbformat": 4,
 "nbformat_minor": 5
}
