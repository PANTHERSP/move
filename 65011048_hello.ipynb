{
 "cells": [
  {
   "cell_type": "markdown",
   "id": "0eb7d1eb",
   "metadata": {},
   "source": [
    "# Hello, I'm Suphakrit Parima\n",
    "\n",
    "![My Image](https://github.com/PANTHERSP/picture/raw/main/IMG_3802.JPG\n",
    ")\n",
    "\n",
    "## About Me\n",
    "### Personal Information\n",
    "#### My Name is Suphakrit Parima\n",
    "###### Hobbies and Interests\n",
    "\n",
    "- I enjoy reading books.\n",
    "- I love to code in Python.\n",
    "\n",
    "1. I graduated from XYZ University.\n",
    "1. I work as a software developer.\n",
    "\n",
    "| Skill | Experience (Years) |\n",
    "|---|---|\n",
    "| Python | 5 |\n",
    "| JavaScript | 3 |\n",
    "\n",
    "`Favorite Quote`"
   ]
  },
  {
   "cell_type": "code",
   "execution_count": 1,
   "id": "0a7cd340",
   "metadata": {},
   "outputs": [
    {
     "name": "stdout",
     "output_type": "stream",
     "text": [
      "Hello, I am Suphakrit Parima, also known as Panther. I am passionate about coding and technology!\n"
     ]
    }
   ],
   "source": [
    "def introduce_myself():\n",
    "    print('Hello, I am Suphakrit Parima, also known as Panther. I am passionate about coding and technology!')\n",
    "\n",
    "introduce_myself()"
   ]
  },
  {
   "cell_type": "code",
   "execution_count": null,
   "id": "65287923",
   "metadata": {},
   "outputs": [],
   "source": []
  }
 ],
 "metadata": {
  "kernelspec": {
   "display_name": "Python 3 (ipykernel)",
   "language": "python",
   "name": "python3"
  },
  "language_info": {
   "codemirror_mode": {
    "name": "ipython",
    "version": 3
   },
   "file_extension": ".py",
   "mimetype": "text/x-python",
   "name": "python",
   "nbconvert_exporter": "python",
   "pygments_lexer": "ipython3",
   "version": "3.7.9"
  }
 },
 "nbformat": 4,
 "nbformat_minor": 5
}
