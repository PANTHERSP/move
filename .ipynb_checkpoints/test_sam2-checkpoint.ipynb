{
 "cells": [
  {
   "cell_type": "code",
   "execution_count": 2,
   "id": "6ccc9e7e",
   "metadata": {},
   "outputs": [
    {
     "name": "stderr",
     "output_type": "stream",
     "text": [
      "Cloning into 'segment-anything-2'...\n"
     ]
    }
   ],
   "source": [
    "!git clone https://github.com/facebookresearch/segment-anything-2.git\n"
   ]
  },
  {
   "cell_type": "code",
   "execution_count": 2,
   "id": "788e1ce1",
   "metadata": {},
   "outputs": [
    {
     "name": "stdout",
     "output_type": "stream",
     "text": [
      "C:\\Users\\supha\\Documents\\65011048\\segment-anything-2\n"
     ]
    },
    {
     "name": "stderr",
     "output_type": "stream",
     "text": [
      "C:\\Users\\supha\\AppData\\Local\\Programs\\Python\\Python311\\Lib\\site-packages\\IPython\\core\\magics\\osm.py:417: UserWarning: This is now an optional IPython functionality, setting dhist requires you to install the `pickleshare` library.\n",
      "  self.shell.db['dhist'] = compress_dhist(dhist)[-100:]\n"
     ]
    }
   ],
   "source": [
    "%cd segment-anything-2"
   ]
  },
  {
   "cell_type": "code",
   "execution_count": 4,
   "id": "5a4e3aba",
   "metadata": {},
   "outputs": [
    {
     "name": "stdout",
     "output_type": "stream",
     "text": [
      "Obtaining file:///C:/Users/supha/Documents/65011048/segment-anything-2\n",
      "  Installing build dependencies: started\n",
      "  Installing build dependencies: still running...\n",
      "  Installing build dependencies: finished with status 'done'\n",
      "  Checking if build backend supports build_editable: started\n",
      "  Checking if build backend supports build_editable: finished with status 'done'\n",
      "  Getting requirements to build editable: started\n",
      "  Getting requirements to build editable: finished with status 'done'\n",
      "  Preparing editable metadata (pyproject.toml): started\n",
      "  Preparing editable metadata (pyproject.toml): finished with status 'done'\n",
      "Requirement already satisfied: torch>=2.3.1 in c:\\users\\supha\\appdata\\local\\programs\\python\\python311\\lib\\site-packages (from SAM-2==1.0) (2.4.1)\n",
      "Requirement already satisfied: torchvision>=0.18.1 in c:\\users\\supha\\appdata\\local\\programs\\python\\python311\\lib\\site-packages (from SAM-2==1.0) (0.19.1)\n",
      "Requirement already satisfied: numpy>=1.24.4 in c:\\users\\supha\\appdata\\local\\programs\\python\\python311\\lib\\site-packages (from SAM-2==1.0) (2.1.1)\n",
      "Requirement already satisfied: tqdm>=4.66.1 in c:\\users\\supha\\appdata\\local\\programs\\python\\python311\\lib\\site-packages (from SAM-2==1.0) (4.66.5)\n",
      "Requirement already satisfied: hydra-core>=1.3.2 in c:\\users\\supha\\appdata\\local\\programs\\python\\python311\\lib\\site-packages (from SAM-2==1.0) (1.3.2)\n",
      "Requirement already satisfied: iopath>=0.1.10 in c:\\users\\supha\\appdata\\local\\programs\\python\\python311\\lib\\site-packages (from SAM-2==1.0) (0.1.10)\n",
      "Requirement already satisfied: pillow>=9.4.0 in c:\\users\\supha\\appdata\\local\\programs\\python\\python311\\lib\\site-packages (from SAM-2==1.0) (10.2.0)\n",
      "Requirement already satisfied: omegaconf<2.4,>=2.2 in c:\\users\\supha\\appdata\\local\\programs\\python\\python311\\lib\\site-packages (from hydra-core>=1.3.2->SAM-2==1.0) (2.3.0)\n",
      "Requirement already satisfied: antlr4-python3-runtime==4.9.* in c:\\users\\supha\\appdata\\local\\programs\\python\\python311\\lib\\site-packages (from hydra-core>=1.3.2->SAM-2==1.0) (4.9.3)\n",
      "Requirement already satisfied: packaging in c:\\users\\supha\\appdata\\local\\programs\\python\\python311\\lib\\site-packages (from hydra-core>=1.3.2->SAM-2==1.0) (24.1)\n",
      "Requirement already satisfied: typing-extensions in c:\\users\\supha\\appdata\\local\\programs\\python\\python311\\lib\\site-packages (from iopath>=0.1.10->SAM-2==1.0) (4.9.0)\n",
      "Requirement already satisfied: portalocker in c:\\users\\supha\\appdata\\local\\programs\\python\\python311\\lib\\site-packages (from iopath>=0.1.10->SAM-2==1.0) (2.10.1)\n",
      "Requirement already satisfied: filelock in c:\\users\\supha\\appdata\\local\\programs\\python\\python311\\lib\\site-packages (from torch>=2.3.1->SAM-2==1.0) (3.14.0)\n",
      "Requirement already satisfied: sympy in c:\\users\\supha\\appdata\\local\\programs\\python\\python311\\lib\\site-packages (from torch>=2.3.1->SAM-2==1.0) (1.12)\n",
      "Requirement already satisfied: networkx in c:\\users\\supha\\appdata\\local\\programs\\python\\python311\\lib\\site-packages (from torch>=2.3.1->SAM-2==1.0) (3.2.1)\n",
      "Requirement already satisfied: jinja2 in c:\\users\\supha\\appdata\\local\\programs\\python\\python311\\lib\\site-packages (from torch>=2.3.1->SAM-2==1.0) (3.1.3)\n",
      "Requirement already satisfied: fsspec in c:\\users\\supha\\appdata\\local\\programs\\python\\python311\\lib\\site-packages (from torch>=2.3.1->SAM-2==1.0) (2024.9.0)\n",
      "Requirement already satisfied: colorama in c:\\users\\supha\\appdata\\local\\programs\\python\\python311\\lib\\site-packages (from tqdm>=4.66.1->SAM-2==1.0) (0.4.6)\n",
      "Requirement already satisfied: PyYAML>=5.1.0 in c:\\users\\supha\\appdata\\local\\programs\\python\\python311\\lib\\site-packages (from omegaconf<2.4,>=2.2->hydra-core>=1.3.2->SAM-2==1.0) (6.0.2)\n",
      "Requirement already satisfied: MarkupSafe>=2.0 in c:\\users\\supha\\appdata\\local\\programs\\python\\python311\\lib\\site-packages (from jinja2->torch>=2.3.1->SAM-2==1.0) (2.1.5)\n",
      "Requirement already satisfied: pywin32>=226 in c:\\users\\supha\\appdata\\local\\programs\\python\\python311\\lib\\site-packages (from portalocker->iopath>=0.1.10->SAM-2==1.0) (306)\n",
      "Requirement already satisfied: mpmath>=0.19 in c:\\users\\supha\\appdata\\local\\programs\\python\\python311\\lib\\site-packages (from sympy->torch>=2.3.1->SAM-2==1.0) (1.3.0)\n",
      "Building wheels for collected packages: SAM-2\n",
      "  Building editable for SAM-2 (pyproject.toml): started\n",
      "  Building editable for SAM-2 (pyproject.toml): finished with status 'done'\n",
      "  Created wheel for SAM-2: filename=SAM_2-1.0-0.editable-py3-none-any.whl size=12403 sha256=db8856b1d1ee52d75d0a5b8b6fa35eff4e202116b36b7b73d1046b90bd80fe5e\n",
      "  Stored in directory: C:\\Users\\supha\\AppData\\Local\\Temp\\pip-ephem-wheel-cache-ps7orc21\\wheels\\c0\\1d\\0e\\dca089d996e9fa51f05a266d15ff591e09a17087cddf2c8ca7\n",
      "Successfully built SAM-2\n",
      "Installing collected packages: SAM-2\n",
      "  Attempting uninstall: SAM-2\n",
      "    Found existing installation: SAM-2 1.0\n",
      "    Uninstalling SAM-2-1.0:\n",
      "      Successfully uninstalled SAM-2-1.0\n",
      "Successfully installed SAM-2-1.0\n"
     ]
    }
   ],
   "source": [
    "!pip install -e ."
   ]
  },
  {
   "cell_type": "code",
   "execution_count": 5,
   "id": "19dcd113",
   "metadata": {},
   "outputs": [],
   "source": [
    "import cv2\n",
    "import os\n",
    "import requests\n",
    "import numpy as np\n",
    "from matplotlib import pyplot as plt\n",
    "from io import BytesIO\n",
    "from PIL import Image\n"
   ]
  },
  {
   "cell_type": "code",
   "execution_count": 6,
   "id": "05aa2bd4",
   "metadata": {},
   "outputs": [],
   "source": [
    "from sam2.build_sam import build_sam2\n",
    "from sam2.sam2_image_predictor import SAM2ImagePredictor\n",
    "from sam2.automatic_mask_generator import SAM2AutomaticMaskGenerator"
   ]
  },
  {
   "cell_type": "code",
   "execution_count": 20,
   "id": "1d3eccac-537c-4c7b-828e-3495793d0e37",
   "metadata": {},
   "outputs": [
    {
     "ename": "FileNotFoundError",
     "evalue": "[Errno 2] No such file or directory: './segment-anything-2/checkpoints/sam2_hiera_large.pt'",
     "output_type": "error",
     "traceback": [
      "\u001b[1;31m---------------------------------------------------------------------------\u001b[0m",
      "\u001b[1;31mFileNotFoundError\u001b[0m                         Traceback (most recent call last)",
      "Cell \u001b[1;32mIn[20], line 3\u001b[0m\n\u001b[0;32m      1\u001b[0m checkpoint \u001b[38;5;241m=\u001b[39m \u001b[38;5;124m\"\u001b[39m\u001b[38;5;124m./segment-anything-2/checkpoints/sam2_hiera_large.pt\u001b[39m\u001b[38;5;124m\"\u001b[39m\n\u001b[0;32m      2\u001b[0m model_cfg \u001b[38;5;241m=\u001b[39m \u001b[38;5;124m\"\u001b[39m\u001b[38;5;124msam2_hiera_l.yaml\u001b[39m\u001b[38;5;124m\"\u001b[39m\n\u001b[1;32m----> 3\u001b[0m predictor \u001b[38;5;241m=\u001b[39m SAM2ImagePredictor(\u001b[43mbuild_sam2\u001b[49m\u001b[43m(\u001b[49m\u001b[43mmodel_cfg\u001b[49m\u001b[43m,\u001b[49m\u001b[43m \u001b[49m\u001b[43mcheckpoint\u001b[49m\u001b[43m)\u001b[49m)\n",
      "File \u001b[1;32m~\\Documents\\65011048\\segment-anything-2\\sam2\\build_sam.py:37\u001b[0m, in \u001b[0;36mbuild_sam2\u001b[1;34m(config_file, ckpt_path, device, mode, hydra_overrides_extra, apply_postprocessing, **kwargs)\u001b[0m\n\u001b[0;32m     35\u001b[0m OmegaConf\u001b[38;5;241m.\u001b[39mresolve(cfg)\n\u001b[0;32m     36\u001b[0m model \u001b[38;5;241m=\u001b[39m instantiate(cfg\u001b[38;5;241m.\u001b[39mmodel, _recursive_\u001b[38;5;241m=\u001b[39m\u001b[38;5;28;01mTrue\u001b[39;00m)\n\u001b[1;32m---> 37\u001b[0m \u001b[43m_load_checkpoint\u001b[49m\u001b[43m(\u001b[49m\u001b[43mmodel\u001b[49m\u001b[43m,\u001b[49m\u001b[43m \u001b[49m\u001b[43mckpt_path\u001b[49m\u001b[43m)\u001b[49m\n\u001b[0;32m     38\u001b[0m model \u001b[38;5;241m=\u001b[39m model\u001b[38;5;241m.\u001b[39mto(device)\n\u001b[0;32m     39\u001b[0m \u001b[38;5;28;01mif\u001b[39;00m mode \u001b[38;5;241m==\u001b[39m \u001b[38;5;124m\"\u001b[39m\u001b[38;5;124meval\u001b[39m\u001b[38;5;124m\"\u001b[39m:\n",
      "File \u001b[1;32m~\\Documents\\65011048\\segment-anything-2\\sam2\\build_sam.py:121\u001b[0m, in \u001b[0;36m_load_checkpoint\u001b[1;34m(model, ckpt_path)\u001b[0m\n\u001b[0;32m    119\u001b[0m \u001b[38;5;28;01mdef\u001b[39;00m \u001b[38;5;21m_load_checkpoint\u001b[39m(model, ckpt_path):\n\u001b[0;32m    120\u001b[0m     \u001b[38;5;28;01mif\u001b[39;00m ckpt_path \u001b[38;5;129;01mis\u001b[39;00m \u001b[38;5;129;01mnot\u001b[39;00m \u001b[38;5;28;01mNone\u001b[39;00m:\n\u001b[1;32m--> 121\u001b[0m         sd \u001b[38;5;241m=\u001b[39m \u001b[43mtorch\u001b[49m\u001b[38;5;241;43m.\u001b[39;49m\u001b[43mload\u001b[49m\u001b[43m(\u001b[49m\u001b[43mckpt_path\u001b[49m\u001b[43m,\u001b[49m\u001b[43m \u001b[49m\u001b[43mmap_location\u001b[49m\u001b[38;5;241;43m=\u001b[39;49m\u001b[38;5;124;43m\"\u001b[39;49m\u001b[38;5;124;43mcpu\u001b[39;49m\u001b[38;5;124;43m\"\u001b[39;49m\u001b[43m)\u001b[49m[\u001b[38;5;124m\"\u001b[39m\u001b[38;5;124mmodel\u001b[39m\u001b[38;5;124m\"\u001b[39m]\n\u001b[0;32m    122\u001b[0m         missing_keys, unexpected_keys \u001b[38;5;241m=\u001b[39m model\u001b[38;5;241m.\u001b[39mload_state_dict(sd)\n\u001b[0;32m    123\u001b[0m         \u001b[38;5;28;01mif\u001b[39;00m missing_keys:\n",
      "File \u001b[1;32m~\\AppData\\Local\\Programs\\Python\\Python311\\Lib\\site-packages\\torch\\serialization.py:1065\u001b[0m, in \u001b[0;36mload\u001b[1;34m(f, map_location, pickle_module, weights_only, mmap, **pickle_load_args)\u001b[0m\n\u001b[0;32m   1062\u001b[0m \u001b[38;5;28;01mif\u001b[39;00m \u001b[38;5;124m'\u001b[39m\u001b[38;5;124mencoding\u001b[39m\u001b[38;5;124m'\u001b[39m \u001b[38;5;129;01mnot\u001b[39;00m \u001b[38;5;129;01min\u001b[39;00m pickle_load_args\u001b[38;5;241m.\u001b[39mkeys():\n\u001b[0;32m   1063\u001b[0m     pickle_load_args[\u001b[38;5;124m'\u001b[39m\u001b[38;5;124mencoding\u001b[39m\u001b[38;5;124m'\u001b[39m] \u001b[38;5;241m=\u001b[39m \u001b[38;5;124m'\u001b[39m\u001b[38;5;124mutf-8\u001b[39m\u001b[38;5;124m'\u001b[39m\n\u001b[1;32m-> 1065\u001b[0m \u001b[38;5;28;01mwith\u001b[39;00m \u001b[43m_open_file_like\u001b[49m\u001b[43m(\u001b[49m\u001b[43mf\u001b[49m\u001b[43m,\u001b[49m\u001b[43m \u001b[49m\u001b[38;5;124;43m'\u001b[39;49m\u001b[38;5;124;43mrb\u001b[39;49m\u001b[38;5;124;43m'\u001b[39;49m\u001b[43m)\u001b[49m \u001b[38;5;28;01mas\u001b[39;00m opened_file:\n\u001b[0;32m   1066\u001b[0m     \u001b[38;5;28;01mif\u001b[39;00m _is_zipfile(opened_file):\n\u001b[0;32m   1067\u001b[0m         \u001b[38;5;66;03m# The zipfile reader is going to advance the current file position.\u001b[39;00m\n\u001b[0;32m   1068\u001b[0m         \u001b[38;5;66;03m# If we want to actually tail call to torch.jit.load, we need to\u001b[39;00m\n\u001b[0;32m   1069\u001b[0m         \u001b[38;5;66;03m# reset back to the original position.\u001b[39;00m\n\u001b[0;32m   1070\u001b[0m         orig_position \u001b[38;5;241m=\u001b[39m opened_file\u001b[38;5;241m.\u001b[39mtell()\n",
      "File \u001b[1;32m~\\AppData\\Local\\Programs\\Python\\Python311\\Lib\\site-packages\\torch\\serialization.py:468\u001b[0m, in \u001b[0;36m_open_file_like\u001b[1;34m(name_or_buffer, mode)\u001b[0m\n\u001b[0;32m    466\u001b[0m \u001b[38;5;28;01mdef\u001b[39;00m \u001b[38;5;21m_open_file_like\u001b[39m(name_or_buffer, mode):\n\u001b[0;32m    467\u001b[0m     \u001b[38;5;28;01mif\u001b[39;00m _is_path(name_or_buffer):\n\u001b[1;32m--> 468\u001b[0m         \u001b[38;5;28;01mreturn\u001b[39;00m \u001b[43m_open_file\u001b[49m\u001b[43m(\u001b[49m\u001b[43mname_or_buffer\u001b[49m\u001b[43m,\u001b[49m\u001b[43m \u001b[49m\u001b[43mmode\u001b[49m\u001b[43m)\u001b[49m\n\u001b[0;32m    469\u001b[0m     \u001b[38;5;28;01melse\u001b[39;00m:\n\u001b[0;32m    470\u001b[0m         \u001b[38;5;28;01mif\u001b[39;00m \u001b[38;5;124m'\u001b[39m\u001b[38;5;124mw\u001b[39m\u001b[38;5;124m'\u001b[39m \u001b[38;5;129;01min\u001b[39;00m mode:\n",
      "File \u001b[1;32m~\\AppData\\Local\\Programs\\Python\\Python311\\Lib\\site-packages\\torch\\serialization.py:449\u001b[0m, in \u001b[0;36m_open_file.__init__\u001b[1;34m(self, name, mode)\u001b[0m\n\u001b[0;32m    448\u001b[0m \u001b[38;5;28;01mdef\u001b[39;00m \u001b[38;5;21m__init__\u001b[39m(\u001b[38;5;28mself\u001b[39m, name, mode):\n\u001b[1;32m--> 449\u001b[0m     \u001b[38;5;28msuper\u001b[39m()\u001b[38;5;241m.\u001b[39m\u001b[38;5;21m__init__\u001b[39m(\u001b[38;5;28;43mopen\u001b[39;49m\u001b[43m(\u001b[49m\u001b[43mname\u001b[49m\u001b[43m,\u001b[49m\u001b[43m \u001b[49m\u001b[43mmode\u001b[49m\u001b[43m)\u001b[49m)\n",
      "\u001b[1;31mFileNotFoundError\u001b[0m: [Errno 2] No such file or directory: './segment-anything-2/checkpoints/sam2_hiera_large.pt'"
     ]
    }
   ],
   "source": [
    "checkpoint = \"./segment-anything-2/checkpoints/sam2_hiera_large.pt\"\n",
    "model_cfg = \"sam2_hiera_l.yaml\"\n",
    "predictor = SAM2ImagePredictor(build_sam2(model_cfg, checkpoint))"
   ]
  }
 ],
 "metadata": {
  "kernelspec": {
   "display_name": "python311",
   "language": "python",
   "name": "python311"
  },
  "language_info": {
   "codemirror_mode": {
    "name": "ipython",
    "version": 3
   },
   "file_extension": ".py",
   "mimetype": "text/x-python",
   "name": "python",
   "nbconvert_exporter": "python",
   "pygments_lexer": "ipython3",
   "version": "3.11.9"
  }
 },
 "nbformat": 4,
 "nbformat_minor": 5
}
