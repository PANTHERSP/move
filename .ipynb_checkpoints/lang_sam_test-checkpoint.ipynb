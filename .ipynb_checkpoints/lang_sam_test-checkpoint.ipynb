{
 "cells": [
  {
   "cell_type": "code",
   "execution_count": 1,
   "id": "a9b5f543-af6b-46ff-8946-f12b2a3e8897",
   "metadata": {},
   "outputs": [
    {
     "name": "stderr",
     "output_type": "stream",
     "text": [
      "C:\\Users\\supha\\AppData\\Local\\Programs\\Python\\Python310\\lib\\site-packages\\tqdm\\auto.py:21: TqdmWarning: IProgress not found. Please update jupyter and ipywidgets. See https://ipywidgets.readthedocs.io/en/stable/user_install.html\n",
      "  from .autonotebook import tqdm as notebook_tqdm\n",
      "C:\\Users\\supha\\AppData\\Local\\Programs\\Python\\Python310\\lib\\site-packages\\groundingdino\\models\\GroundingDINO\\ms_deform_attn.py:31: UserWarning: Failed to load custom C++ ops. Running on CPU mode Only!\n",
      "  warnings.warn(\"Failed to load custom C++ ops. Running on CPU mode Only!\")\n"
     ]
    }
   ],
   "source": [
    "import os\n",
    "from PIL import Image\n",
    "from lang_sam import LangSAM\n",
    "import matplotlib.pyplot as plt\n",
    "import numpy as np\n",
    "import cv2\n"
   ]
  },
  {
   "cell_type": "code",
   "execution_count": 2,
   "id": "630309e8-7c04-4a9b-bff2-9d7813c5d99e",
   "metadata": {},
   "outputs": [
    {
     "name": "stderr",
     "output_type": "stream",
     "text": [
      "UserWarning: torch.meshgrid: in an upcoming release, it will be required to pass the indexing argument. (Triggered internally at C:\\actions-runner\\_work\\pytorch\\pytorch\\builder\\windows\\pytorch\\aten\\src\\ATen\\native\\TensorShape.cpp:3610.)\n"
     ]
    },
    {
     "name": "stdout",
     "output_type": "stream",
     "text": [
      "final text_encoder_type: bert-base-uncased\n"
     ]
    },
    {
     "name": "stderr",
     "output_type": "stream",
     "text": [
      "FutureWarning: `clean_up_tokenization_spaces` was not set. It will be set to `True` by default. This behavior will be deprecated in transformers v4.45, and will be then set to `False` by default. For more details check this issue: https://github.com/huggingface/transformers/issues/31884\n",
      "FutureWarning: You are using `torch.load` with `weights_only=False` (the current default value), which uses the default pickle module implicitly. It is possible to construct malicious pickle data which will execute arbitrary code during unpickling (See https://github.com/pytorch/pytorch/blob/main/SECURITY.md#untrusted-models for more details). In a future release, the default value for `weights_only` will be flipped to `True`. This limits the functions that could be executed during unpickling. Arbitrary objects will no longer be allowed to be loaded via this mode unless they are explicitly allowlisted by the user via `torch.serialization.add_safe_globals`. We recommend you start setting `weights_only=True` for any use case where you don't have full control of the loaded file. Please open an issue on GitHub for any issues related to this experimental feature.\n"
     ]
    },
    {
     "name": "stdout",
     "output_type": "stream",
     "text": [
      "Model loaded from C:\\Users\\supha\\.cache\\huggingface\\hub\\models--ShilongLiu--GroundingDINO\\snapshots\\a94c9b567a2a374598f05c584e96798a170c56fb\\groundingdino_swinb_cogcoor.pth \n",
      " => _IncompatibleKeys(missing_keys=[], unexpected_keys=['label_enc.weight', 'bert.embeddings.position_ids'])\n"
     ]
    }
   ],
   "source": [
    "model = LangSAM()\n"
   ]
  },
  {
   "cell_type": "code",
   "execution_count": 3,
   "id": "432aa12d-d946-41f8-baf7-924b6550b07a",
   "metadata": {},
   "outputs": [],
   "source": [
    "folder_path = r\"C:\\Users\\supha\\Documents\\65011048\\test-image\""
   ]
  },
  {
   "cell_type": "code",
   "execution_count": 4,
   "id": "f0818e8b-2e1c-46a5-8343-c3b22f1b9018",
   "metadata": {},
   "outputs": [],
   "source": [
    "text_prompt = \"hand, cup, straw\"                                 "
   ]
  },
  {
   "cell_type": "code",
   "execution_count": null,
   "id": "0d369b62-4f38-4faa-864c-6ca63cc1644b",
   "metadata": {},
   "outputs": [],
   "source": [
    "# วนลูปผ่านไฟล์ทั้งหมดในโฟลเดอร์\n",
    "for index_filename, filename in enumerate(os.listdir(folder_path)):\n",
    "    if filename.endswith(\".jpg\") or filename.endswith(\".png\"):  # ตรวจสอบเฉพาะไฟล์ภาพ\n",
    "        # สร้าง path สำหรับไฟล์ภาพแต่ละไฟล์\n",
    "        image_path = os.path.join(folder_path, filename)\n",
    "\n",
    "        # ลดขนาดภาพให้มีความกว้างและสูงที่เล็กลง\n",
    "        resize_width = 225\n",
    "        resize_height = 400\n",
    "        \n",
    "        # เปิดภาพด้วย PIL\n",
    "        # image_pil = Image.open(image_path).convert(\"RGB\").resize((resize_width, resize_height))\n",
    "        image_pil = Image.open(image_path).convert(\"RGB\")\n",
    "\n",
    "        # ใช้โมเดล LangSAM เพื่อทำการพยากรณ์\n",
    "        masks, boxes, phrases, logits = model.predict(image_pil, text_prompt)\n",
    "\n",
    "        \n",
    "        def calculate_iou(box1, box2):\n",
    "            x1_max = max(box1[0], box2[0])\n",
    "            y1_max = max(box1[1], box2[1])\n",
    "            x2_min = min(box1[2], box2[2])\n",
    "            y2_min = min(box1[3], box2[3])\n",
    "    \n",
    "    \n",
    "            inter_area = max(0, x2_min - x1_max) * max(0, y2_min - y1_max)\n",
    "            \n",
    "            \n",
    "            box1_area = (box1[2] - box1[0]) * (box1[3] - box1[1])\n",
    "            box2_area = (box2[2] - box2[0]) * (box2[3] - box2[1])\n",
    "            \n",
    "            \n",
    "            iou = inter_area / float(box1_area + box2_area - inter_area)\n",
    "            return iou\n",
    "\n",
    "\n",
    "        iou_threshold = 0.5  \n",
    "        selected_boxes = []\n",
    "        selected_masks = []\n",
    "        selected_logits = []\n",
    "        selected_phrases = []\n",
    "\n",
    "\n",
    "        for i, box in enumerate(boxes):\n",
    "            keep = True\n",
    "            for j in range(len(selected_boxes)):\n",
    "                iou = calculate_iou(box, selected_boxes[j])\n",
    "                if iou > iou_threshold:\n",
    "                    if logits[i] > selected_logits[j]:  \n",
    "                        selected_boxes[j] = box\n",
    "                        selected_masks[j] = masks[i]\n",
    "                        selected_logits[j] = logits[i]\n",
    "                        selected_phrases[j] = phrases[i]\n",
    "                    keep = False\n",
    "                    break\n",
    "            if keep:\n",
    "                selected_boxes.append(box)\n",
    "                selected_masks.append(masks[i])\n",
    "                selected_logits.append(logits[i])\n",
    "                selected_phrases.append(phrases[i])\n",
    "\n",
    "        masks_np = np.array([mask.detach().cpu().numpy() for mask in selected_masks])\n",
    " \n",
    "\n",
    "\n",
    "        # แปลงภาพ PIL เป็น NumPy array\n",
    "        image_np = np.array(image_pil).copy()\n",
    "        \n",
    "        # สร้างภาพที่มี mask ทั้งหมด\n",
    "        image_with_all_masks = image_np.copy()\n",
    "        \n",
    "        \n",
    "        # วาดขอบ mask ของแต่ละวัตถุลงในภาพ\n",
    "        for i, mask in enumerate(selected_masks):\n",
    "            # กำหนดสีที่ต่างกันสำหรับแต่ละวัตถุ\n",
    "            if selected_phrases[i] == 'hand':\n",
    "                mask_color = [0, 0, 255]  # สีน้ำเงิน\n",
    "            elif selected_phrases[i] == 'cup':\n",
    "                mask_color = [0, 255, 0]  # สีเขียว\n",
    "            elif selected_phrases[i] == 'straw':\n",
    "                mask_color = [255, 0, 0]  # สีแดง\n",
    "            else:\n",
    "                mask_color = [0, 255, 255]  # สีม่วง\n",
    "        \n",
    "            # แปลง mask ให้เป็นรูปแบบที่ OpenCV รองรับ (uint8)\n",
    "            mask_uint8 = (masks_np[i] * 255).astype(np.uint8)\n",
    "        \n",
    "            # หาขอบของ mask ด้วย OpenCV\n",
    "            contours, _ = cv2.findContours(mask_uint8, cv2.RETR_EXTERNAL, cv2.CHAIN_APPROX_SIMPLE)\n",
    "        \n",
    "            # วาดขอบของ mask บนภาพต้นฉบับ\n",
    "            cv2.drawContours(image_with_all_masks, contours, -1, mask_color, thickness=12)  # กำหนดความหนาของขอบได้ด้วย 'thickness'\n",
    "        \n",
    "        # แสดงภาพพร้อมขอบ mask ทั้งหมด\n",
    "        plt.imshow(image_with_all_masks)\n",
    "        plt.axis('off')\n",
    "        plt.title(f\"Image: {index_filename + 1} / {len(os.listdir(folder_path))}\")\n",
    "\n",
    "        \n",
    "        # # วาด bounding box ของแต่ละวัตถุด้วยสีที่ตรงกับ mask\n",
    "        # for i, box in enumerate(selected_boxes):\n",
    "        #     # แปลงสี mask จาก [0-255] ไปเป็น [0-1] สำหรับการวาด bounding box\n",
    "        #     box_color = [c / 255 for c in mask_color]\n",
    "        \n",
    "        #     x1, y1, x2, y2 = box\n",
    "        #     plt.gca().add_patch(plt.Rectangle((x1, y1), x2 - x1, y2 - y1, fill=False, color=box_color, linewidth=3))\n",
    "        \n",
    "        # แสดงผลลัพธ์สุดท้าย\n",
    "        plt.show()"
   ]
  }
 ],
 "metadata": {
  "kernelspec": {
   "display_name": "python310",
   "language": "python",
   "name": "python310"
  },
  "language_info": {
   "codemirror_mode": {
    "name": "ipython",
    "version": 3
   },
   "file_extension": ".py",
   "mimetype": "text/x-python",
   "name": "python",
   "nbconvert_exporter": "python",
   "pygments_lexer": "ipython3",
   "version": "3.10.0"
  }
 },
 "nbformat": 4,
 "nbformat_minor": 5
}
